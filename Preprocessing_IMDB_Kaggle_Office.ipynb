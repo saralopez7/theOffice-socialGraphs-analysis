{
 "cells": [
  {
   "cell_type": "code",
   "execution_count": 1,
   "id": "7e672903",
   "metadata": {},
   "outputs": [
    {
     "name": "stdout",
     "output_type": "stream",
     "text": [
      "Warning: Your Kaggle API key is readable by other users on this system! To fix this, you can run 'chmod 600 /home/sara/.kaggle/kaggle.json'\n"
     ]
    }
   ],
   "source": [
    "import urllib.request\n",
    "import json\n",
    "import pandas as pd\n",
    "import re\n",
    "import requests\n",
    "from bs4 import BeautifulSoup\n",
    "from kaggle.api.kaggle_api_extended import KaggleApi"
   ]
  },
  {
   "cell_type": "markdown",
   "id": "6972529c",
   "metadata": {},
   "source": [
    "## IMDb"
   ]
  },
  {
   "cell_type": "markdown",
   "id": "0e8dc51e",
   "metadata": {},
   "source": [
    "Next we further complement our data with the raitings from each episode of The Office, for all the 9 seasons using IMDb:https://www.imdb.com/title/tt0386676/episodes/_ajax.\n",
    "\n",
    "\n",
    "IMDb doesn't have official API, so have found the id of The Office in IMDb: `tt0386676`, next we query the data for each episode:"
   ]
  },
  {
   "cell_type": "code",
   "execution_count": 2,
   "id": "e4ae512f",
   "metadata": {},
   "outputs": [],
   "source": [
    "imdb_url =  \"https://www.imdb.com/title/tt0386676/episodes/_ajax\"\n",
    "number_of_seasons = 9"
   ]
  },
  {
   "cell_type": "markdown",
   "id": "7c4d54a9",
   "metadata": {},
   "source": [
    "We use the `requests` library instead of `urllib3`, and the python `BeautifulSoup` library, as we are making ajax requests.\n",
    "\n",
    "We make one request for each of the 9 seasons. For each request we extract: the season raitings, titles, votes, air dates and descriptions.\n",
    "\n",
    "The result is a data set consisting of 7 attributes, namely: the season of the show, episode number for each rating, title for each episode, IMDb raiting, number of votes, air date and description of the episode."
   ]
  },
  {
   "cell_type": "code",
   "execution_count": 3,
   "id": "519d2c02",
   "metadata": {},
   "outputs": [],
   "source": [
    "def get_raitings_and_votes(soup):\n",
    "    ratings = []\n",
    "    votes = []\n",
    "    episodes = []\n",
    "    \n",
    "    rating_divs = soup.findAll(\"div\", {\"class\": \"ipl-rating-widget\"})\n",
    "    \n",
    "    for index, div in enumerate(rating_divs):\n",
    "        episodes.append(index + 1)\n",
    "\n",
    "        # Find IMDb rating\n",
    "        rating_div_inner = div.findAll(\"div\", {\"ipl-rating-star small\"})\n",
    "        soup_inner_rating = rating_div_inner[0].findAll(\"span\", {\"ipl-rating-star__rating\"})\n",
    "        ratings.append(soup_inner_rating[0].string)\n",
    "\n",
    "        # Find total votes\n",
    "        soup_inner_votes = rating_div_inner[0].findAll(\"span\", {\"ipl-rating-star__total-votes\"})\n",
    "        votes_string = soup_inner_votes[0].string\n",
    "        votes_string = votes_string.replace(',', '')\n",
    "        votes_string = votes_string.replace('(', '')\n",
    "        votes_string = votes_string.replace(')', '')\n",
    "        votes.append(int(votes_string))\n",
    "        \n",
    "    return episodes, ratings, votes"
   ]
  },
  {
   "cell_type": "code",
   "execution_count": 4,
   "id": "148ce5b0",
   "metadata": {},
   "outputs": [],
   "source": [
    "def get_episode_titles(soup):\n",
    "    titles = []\n",
    "    title_divs = soup.findAll(\"strong\")\n",
    "        \n",
    "    for div in title_divs:\n",
    "        titles.append(div.string) \n",
    "        \n",
    "    #Popping the extra title (eg Season 1, Season 2, etc) at end for each season (not required)\n",
    "    titles.pop()\n",
    "    \n",
    "    return titles"
   ]
  },
  {
   "cell_type": "code",
   "execution_count": 5,
   "id": "bb567755",
   "metadata": {},
   "outputs": [],
   "source": [
    "def get_airdates(soup):\n",
    "    airdates = []\n",
    "    \n",
    "    airdate_divs = soup.findAll(\"div\", {\"class\": \"airdate\"})\n",
    "    for div in airdate_divs:\n",
    "        airdate_string = div.string\n",
    "        airdate_string = airdate_string.replace('.', '')\n",
    "        airdate_string = airdate_string.strip()\n",
    "        airdates.append(airdate_string)\n",
    "        \n",
    "    return airdates"
   ]
  },
  {
   "cell_type": "code",
   "execution_count": 6,
   "id": "d1d3209a",
   "metadata": {},
   "outputs": [],
   "source": [
    "def get_episodes_description(soup):\n",
    "    desciptions = []\n",
    "    \n",
    "    description_divs = soup.findAll(\"div\", {\"class\": \"item_description\"})\n",
    "\n",
    "    for description in description_divs:\n",
    "        description_string = description.string.strip()\n",
    "        desciptions.append(description_string)\n",
    "    \n",
    "    return desciptions"
   ]
  },
  {
   "cell_type": "code",
   "execution_count": 7,
   "id": "2adfc4e0",
   "metadata": {
    "scrolled": true
   },
   "outputs": [
    {
     "name": "stdout",
     "output_type": "stream",
     "text": [
      "Finding IMDb data for season 1...\n",
      "Finding IMDb data for season 2...\n",
      "Finding IMDb data for season 3...\n",
      "Finding IMDb data for season 4...\n",
      "Finding IMDb data for season 5...\n",
      "Finding IMDb data for season 6...\n",
      "Finding IMDb data for season 7...\n",
      "Finding IMDb data for season 8...\n",
      "Finding IMDb data for season 9...\n"
     ]
    }
   ],
   "source": [
    "imdb_df = pd.DataFrame([])\n",
    "\n",
    "for season in range(1, number_of_seasons + 1):\n",
    "    print(f'Finding IMDb data for season {season}...')\n",
    "\n",
    "    r = requests.get(url = imdb_url, params = {'season': season})\n",
    "    \n",
    "    # URL response is in HTML format\n",
    "    soup = BeautifulSoup(r.content, 'html.parser')\n",
    "    \n",
    "    episodes, ratings, votes = get_raitings_and_votes(soup)\n",
    "    titles = get_episode_titles(soup)\n",
    "    airdates = get_airdates(soup)\n",
    "    descriptions = get_episodes_description(soup)\n",
    "\n",
    "    number_of_ep = len(ratings)\n",
    "    seasons = [season] * number_of_ep\n",
    "    \n",
    "    # Preparing data for current season    \n",
    "    data = {'Season': seasons, 'Episode': episodes, 'EpisodeTitle': titles, 'IMDBRating': ratings, 'TotalVotes': votes, 'AirDate': airdates, 'Description': descriptions}\n",
    "    imdb_season_df = pd.DataFrame(data)\n",
    "    imdb_df = imdb_df.append(imdb_season_df)"
   ]
  },
  {
   "cell_type": "markdown",
   "id": "fd54c2c0",
   "metadata": {},
   "source": [
    "Next we examine the IMDb dataframe:"
   ]
  },
  {
   "cell_type": "code",
   "execution_count": 8,
   "id": "3ef21396",
   "metadata": {},
   "outputs": [
    {
     "name": "stdout",
     "output_type": "stream",
     "text": [
      "<class 'pandas.core.frame.DataFrame'>\n",
      "Int64Index: 188 entries, 0 to 22\n",
      "Data columns (total 7 columns):\n",
      " #   Column        Non-Null Count  Dtype \n",
      "---  ------        --------------  ----- \n",
      " 0   Season        188 non-null    int64 \n",
      " 1   Episode       188 non-null    int64 \n",
      " 2   EpisodeTitle  188 non-null    object\n",
      " 3   IMDBRating    188 non-null    object\n",
      " 4   TotalVotes    188 non-null    int64 \n",
      " 5   AirDate       188 non-null    object\n",
      " 6   Description   188 non-null    object\n",
      "dtypes: int64(3), object(4)\n",
      "memory usage: 11.8+ KB\n"
     ]
    }
   ],
   "source": [
    "imdb_df.info()"
   ]
  },
  {
   "cell_type": "code",
   "execution_count": 9,
   "id": "cdeed8bb",
   "metadata": {
    "scrolled": true
   },
   "outputs": [
    {
     "data": {
      "text/html": [
       "<div>\n",
       "<style scoped>\n",
       "    .dataframe tbody tr th:only-of-type {\n",
       "        vertical-align: middle;\n",
       "    }\n",
       "\n",
       "    .dataframe tbody tr th {\n",
       "        vertical-align: top;\n",
       "    }\n",
       "\n",
       "    .dataframe thead th {\n",
       "        text-align: right;\n",
       "    }\n",
       "</style>\n",
       "<table border=\"1\" class=\"dataframe\">\n",
       "  <thead>\n",
       "    <tr style=\"text-align: right;\">\n",
       "      <th></th>\n",
       "      <th>Season</th>\n",
       "      <th>Episode</th>\n",
       "      <th>EpisodeTitle</th>\n",
       "      <th>IMDBRating</th>\n",
       "      <th>TotalVotes</th>\n",
       "      <th>AirDate</th>\n",
       "      <th>Description</th>\n",
       "    </tr>\n",
       "  </thead>\n",
       "  <tbody>\n",
       "    <tr>\n",
       "      <th>0</th>\n",
       "      <td>1</td>\n",
       "      <td>1</td>\n",
       "      <td>Pilot</td>\n",
       "      <td>7.4</td>\n",
       "      <td>7134</td>\n",
       "      <td>24 Mar 2005</td>\n",
       "      <td>The premiere episode introduces the boss and s...</td>\n",
       "    </tr>\n",
       "    <tr>\n",
       "      <th>1</th>\n",
       "      <td>1</td>\n",
       "      <td>2</td>\n",
       "      <td>Diversity Day</td>\n",
       "      <td>8.3</td>\n",
       "      <td>7033</td>\n",
       "      <td>16 Mar 2005</td>\n",
       "      <td>Michael's off color remark puts a sensitivity ...</td>\n",
       "    </tr>\n",
       "    <tr>\n",
       "      <th>2</th>\n",
       "      <td>1</td>\n",
       "      <td>3</td>\n",
       "      <td>Health Care</td>\n",
       "      <td>7.7</td>\n",
       "      <td>5863</td>\n",
       "      <td>5 Apr 2005</td>\n",
       "      <td>Michael leaves Dwight in charge of picking the...</td>\n",
       "    </tr>\n",
       "    <tr>\n",
       "      <th>3</th>\n",
       "      <td>1</td>\n",
       "      <td>4</td>\n",
       "      <td>The Alliance</td>\n",
       "      <td>8.0</td>\n",
       "      <td>5673</td>\n",
       "      <td>12 Apr 2005</td>\n",
       "      <td>Just for a laugh, Jim agrees to an alliance wi...</td>\n",
       "    </tr>\n",
       "    <tr>\n",
       "      <th>4</th>\n",
       "      <td>1</td>\n",
       "      <td>5</td>\n",
       "      <td>Basketball</td>\n",
       "      <td>8.4</td>\n",
       "      <td>6299</td>\n",
       "      <td>19 Apr 2005</td>\n",
       "      <td>Michael and his staff challenge the warehouse ...</td>\n",
       "    </tr>\n",
       "  </tbody>\n",
       "</table>\n",
       "</div>"
      ],
      "text/plain": [
       "   Season  Episode   EpisodeTitle IMDBRating  TotalVotes      AirDate  \\\n",
       "0       1        1          Pilot        7.4        7134  24 Mar 2005   \n",
       "1       1        2  Diversity Day        8.3        7033  16 Mar 2005   \n",
       "2       1        3    Health Care        7.7        5863   5 Apr 2005   \n",
       "3       1        4   The Alliance        8.0        5673  12 Apr 2005   \n",
       "4       1        5     Basketball        8.4        6299  19 Apr 2005   \n",
       "\n",
       "                                         Description  \n",
       "0  The premiere episode introduces the boss and s...  \n",
       "1  Michael's off color remark puts a sensitivity ...  \n",
       "2  Michael leaves Dwight in charge of picking the...  \n",
       "3  Just for a laugh, Jim agrees to an alliance wi...  \n",
       "4  Michael and his staff challenge the warehouse ...  "
      ]
     },
     "execution_count": 9,
     "metadata": {},
     "output_type": "execute_result"
    }
   ],
   "source": [
    "imdb_df.head()"
   ]
  },
  {
   "cell_type": "markdown",
   "id": "bb679f5f",
   "metadata": {},
   "source": [
    "## Kaggle dataset: The Office Dataset\n",
    "\n",
    "We further extend this data with the guest starts, directors and writers that we get from Kaggle and we load it into the `imdb_df` dataframe by extracting the following columns: GuestStarts, Director, Writers. "
   ]
  },
  {
   "cell_type": "code",
   "execution_count": 10,
   "id": "8c9fdb33",
   "metadata": {},
   "outputs": [
    {
     "name": "stdout",
     "output_type": "stream",
     "text": [
      "Warning: Your Kaggle API key is readable by other users on this system! To fix this, you can run 'chmod 600 /home/sara/.kaggle/kaggle.json'\n"
     ]
    },
    {
     "data": {
      "text/plain": [
       "False"
      ]
     },
     "execution_count": 10,
     "metadata": {},
     "output_type": "execute_result"
    }
   ],
   "source": [
    "api = KaggleApi()\n",
    "api.authenticate()\n",
    "\n",
    "api.dataset_download_file('nehaprabhavalkar/the-office-dataset','the_office_series.csv', path='./data/kaggle_data')"
   ]
  },
  {
   "cell_type": "code",
   "execution_count": 11,
   "id": "97a49b3c",
   "metadata": {},
   "outputs": [
    {
     "name": "stdout",
     "output_type": "stream",
     "text": [
      "<class 'pandas.core.frame.DataFrame'>\n",
      "RangeIndex: 188 entries, 0 to 187\n",
      "Data columns (total 6 columns):\n",
      " #   Column        Non-Null Count  Dtype  \n",
      "---  ------        --------------  -----  \n",
      " 0   Season        188 non-null    int64  \n",
      " 1   EpisodeTitle  188 non-null    object \n",
      " 2   Viewership    188 non-null    float64\n",
      " 3   GuestStars    29 non-null     object \n",
      " 4   Director      188 non-null    object \n",
      " 5   Writers       188 non-null    object \n",
      "dtypes: float64(1), int64(1), object(4)\n",
      "memory usage: 8.9+ KB\n"
     ]
    }
   ],
   "source": [
    "office_df = pd.read_csv('data/kaggle_data/the_office_series.csv', usecols=['Season', 'EpisodeTitle', 'GuestStars', 'Director', 'Writers', 'Viewership'])\n",
    "office_df['Writers'] = office_df['Writers'].str.split('|') \n",
    "office_df.info()"
   ]
  },
  {
   "cell_type": "code",
   "execution_count": 12,
   "id": "0fae60bc",
   "metadata": {},
   "outputs": [
    {
     "data": {
      "text/html": [
       "<div>\n",
       "<style scoped>\n",
       "    .dataframe tbody tr th:only-of-type {\n",
       "        vertical-align: middle;\n",
       "    }\n",
       "\n",
       "    .dataframe tbody tr th {\n",
       "        vertical-align: top;\n",
       "    }\n",
       "\n",
       "    .dataframe thead th {\n",
       "        text-align: right;\n",
       "    }\n",
       "</style>\n",
       "<table border=\"1\" class=\"dataframe\">\n",
       "  <thead>\n",
       "    <tr style=\"text-align: right;\">\n",
       "      <th></th>\n",
       "      <th>Season</th>\n",
       "      <th>EpisodeTitle</th>\n",
       "      <th>Viewership</th>\n",
       "      <th>GuestStars</th>\n",
       "      <th>Director</th>\n",
       "      <th>Writers</th>\n",
       "    </tr>\n",
       "  </thead>\n",
       "  <tbody>\n",
       "    <tr>\n",
       "      <th>0</th>\n",
       "      <td>1</td>\n",
       "      <td>Pilot</td>\n",
       "      <td>11.2</td>\n",
       "      <td>NaN</td>\n",
       "      <td>Ken Kwapis</td>\n",
       "      <td>[Ricky Gervais , Stephen Merchant and Greg Dan...</td>\n",
       "    </tr>\n",
       "    <tr>\n",
       "      <th>1</th>\n",
       "      <td>1</td>\n",
       "      <td>Diversity Day</td>\n",
       "      <td>6.0</td>\n",
       "      <td>NaN</td>\n",
       "      <td>Ken Kwapis</td>\n",
       "      <td>[B. J. Novak]</td>\n",
       "    </tr>\n",
       "    <tr>\n",
       "      <th>2</th>\n",
       "      <td>1</td>\n",
       "      <td>Health Care</td>\n",
       "      <td>5.8</td>\n",
       "      <td>NaN</td>\n",
       "      <td>Ken Whittingham</td>\n",
       "      <td>[Paul Lieberstein]</td>\n",
       "    </tr>\n",
       "    <tr>\n",
       "      <th>3</th>\n",
       "      <td>1</td>\n",
       "      <td>The Alliance</td>\n",
       "      <td>5.4</td>\n",
       "      <td>NaN</td>\n",
       "      <td>Bryan Gordon</td>\n",
       "      <td>[Michael Schur]</td>\n",
       "    </tr>\n",
       "    <tr>\n",
       "      <th>4</th>\n",
       "      <td>1</td>\n",
       "      <td>Basketball</td>\n",
       "      <td>5.0</td>\n",
       "      <td>NaN</td>\n",
       "      <td>Greg Daniels</td>\n",
       "      <td>[Greg Daniels]</td>\n",
       "    </tr>\n",
       "  </tbody>\n",
       "</table>\n",
       "</div>"
      ],
      "text/plain": [
       "   Season   EpisodeTitle  Viewership GuestStars         Director  \\\n",
       "0       1          Pilot        11.2        NaN       Ken Kwapis   \n",
       "1       1  Diversity Day         6.0        NaN       Ken Kwapis   \n",
       "2       1    Health Care         5.8        NaN  Ken Whittingham   \n",
       "3       1   The Alliance         5.4        NaN     Bryan Gordon   \n",
       "4       1     Basketball         5.0        NaN     Greg Daniels   \n",
       "\n",
       "                                             Writers  \n",
       "0  [Ricky Gervais , Stephen Merchant and Greg Dan...  \n",
       "1                                      [B. J. Novak]  \n",
       "2                                 [Paul Lieberstein]  \n",
       "3                                    [Michael Schur]  \n",
       "4                                     [Greg Daniels]  "
      ]
     },
     "execution_count": 12,
     "metadata": {},
     "output_type": "execute_result"
    }
   ],
   "source": [
    "office_df.head()"
   ]
  },
  {
   "cell_type": "markdown",
   "id": "042678b9",
   "metadata": {},
   "source": [
    "Now we merge this data set with the IMDb data about raitings using the `Season` and `EpisodeTitle` columns that both the `imdb_df` and `office_df` dataframes have in common. Since some columns are the same, i.e Ratings and Viewership, we will maintain the columns from IMDb."
   ]
  },
  {
   "cell_type": "code",
   "execution_count": 13,
   "id": "13b5b1e1",
   "metadata": {
    "scrolled": true
   },
   "outputs": [],
   "source": [
    "imdb_df = imdb_df.merge(office_df, on=['Season', 'EpisodeTitle'], how='left')\n",
    "imdb_df[\"IMDBRating\"] = pd.to_numeric(imdb_df[\"IMDBRating\"], downcast=\"float\")\n",
    "imdb_df['EpisodeTitle'] = imdb_df['EpisodeTitle'].str.replace(\"'\", '') # remove special characters \"'\""
   ]
  },
  {
   "cell_type": "markdown",
   "id": "7ce2291e",
   "metadata": {},
   "source": [
    "Since we want to analyse the impact of Guest stars in the season ratings, we will count the number of guest stars in every episode:"
   ]
  },
  {
   "cell_type": "code",
   "execution_count": 14,
   "id": "5b112f34",
   "metadata": {},
   "outputs": [],
   "source": [
    "def count_guest_starts(guest_starts):\n",
    "    if guest_starts == \"nan\":\n",
    "        return 0 # some episodes do not have guest starts\n",
    "    else:\n",
    "        return len(guest_starts.split(',')) # the guest stars are separated by ,\n",
    "\n",
    "imdb_df['Number of Guest Stars'] = imdb_df['GuestStars'].apply(lambda x: count_guest_starts(str(x)))"
   ]
  },
  {
   "cell_type": "code",
   "execution_count": 15,
   "id": "57bc6f3f",
   "metadata": {},
   "outputs": [
    {
     "name": "stdout",
     "output_type": "stream",
     "text": [
      "<class 'pandas.core.frame.DataFrame'>\n",
      "Int64Index: 188 entries, 0 to 187\n",
      "Data columns (total 12 columns):\n",
      " #   Column                 Non-Null Count  Dtype  \n",
      "---  ------                 --------------  -----  \n",
      " 0   Season                 188 non-null    int64  \n",
      " 1   Episode                188 non-null    int64  \n",
      " 2   EpisodeTitle           188 non-null    object \n",
      " 3   IMDBRating             188 non-null    float32\n",
      " 4   TotalVotes             188 non-null    int64  \n",
      " 5   AirDate                188 non-null    object \n",
      " 6   Description            188 non-null    object \n",
      " 7   Viewership             188 non-null    float64\n",
      " 8   GuestStars             29 non-null     object \n",
      " 9   Director               188 non-null    object \n",
      " 10  Writers                188 non-null    object \n",
      " 11  Number of Guest Stars  188 non-null    int64  \n",
      "dtypes: float32(1), float64(1), int64(4), object(6)\n",
      "memory usage: 18.4+ KB\n"
     ]
    }
   ],
   "source": [
    "imdb_df.info()"
   ]
  },
  {
   "cell_type": "code",
   "execution_count": 16,
   "id": "cdfa17d9",
   "metadata": {
    "scrolled": true
   },
   "outputs": [
    {
     "data": {
      "text/html": [
       "<div>\n",
       "<style scoped>\n",
       "    .dataframe tbody tr th:only-of-type {\n",
       "        vertical-align: middle;\n",
       "    }\n",
       "\n",
       "    .dataframe tbody tr th {\n",
       "        vertical-align: top;\n",
       "    }\n",
       "\n",
       "    .dataframe thead th {\n",
       "        text-align: right;\n",
       "    }\n",
       "</style>\n",
       "<table border=\"1\" class=\"dataframe\">\n",
       "  <thead>\n",
       "    <tr style=\"text-align: right;\">\n",
       "      <th></th>\n",
       "      <th>Season</th>\n",
       "      <th>Episode</th>\n",
       "      <th>EpisodeTitle</th>\n",
       "      <th>IMDBRating</th>\n",
       "      <th>TotalVotes</th>\n",
       "      <th>AirDate</th>\n",
       "      <th>Description</th>\n",
       "      <th>Viewership</th>\n",
       "      <th>GuestStars</th>\n",
       "      <th>Director</th>\n",
       "      <th>Writers</th>\n",
       "      <th>Number of Guest Stars</th>\n",
       "    </tr>\n",
       "  </thead>\n",
       "  <tbody>\n",
       "    <tr>\n",
       "      <th>0</th>\n",
       "      <td>1</td>\n",
       "      <td>1</td>\n",
       "      <td>Pilot</td>\n",
       "      <td>7.4</td>\n",
       "      <td>7134</td>\n",
       "      <td>24 Mar 2005</td>\n",
       "      <td>The premiere episode introduces the boss and s...</td>\n",
       "      <td>11.2</td>\n",
       "      <td>NaN</td>\n",
       "      <td>Ken Kwapis</td>\n",
       "      <td>[Ricky Gervais , Stephen Merchant and Greg Dan...</td>\n",
       "      <td>0</td>\n",
       "    </tr>\n",
       "    <tr>\n",
       "      <th>1</th>\n",
       "      <td>1</td>\n",
       "      <td>2</td>\n",
       "      <td>Diversity Day</td>\n",
       "      <td>8.3</td>\n",
       "      <td>7033</td>\n",
       "      <td>16 Mar 2005</td>\n",
       "      <td>Michael's off color remark puts a sensitivity ...</td>\n",
       "      <td>6.0</td>\n",
       "      <td>NaN</td>\n",
       "      <td>Ken Kwapis</td>\n",
       "      <td>[B. J. Novak]</td>\n",
       "      <td>0</td>\n",
       "    </tr>\n",
       "    <tr>\n",
       "      <th>2</th>\n",
       "      <td>1</td>\n",
       "      <td>3</td>\n",
       "      <td>Health Care</td>\n",
       "      <td>7.7</td>\n",
       "      <td>5863</td>\n",
       "      <td>5 Apr 2005</td>\n",
       "      <td>Michael leaves Dwight in charge of picking the...</td>\n",
       "      <td>5.8</td>\n",
       "      <td>NaN</td>\n",
       "      <td>Ken Whittingham</td>\n",
       "      <td>[Paul Lieberstein]</td>\n",
       "      <td>0</td>\n",
       "    </tr>\n",
       "    <tr>\n",
       "      <th>3</th>\n",
       "      <td>1</td>\n",
       "      <td>4</td>\n",
       "      <td>The Alliance</td>\n",
       "      <td>8.0</td>\n",
       "      <td>5673</td>\n",
       "      <td>12 Apr 2005</td>\n",
       "      <td>Just for a laugh, Jim agrees to an alliance wi...</td>\n",
       "      <td>5.4</td>\n",
       "      <td>NaN</td>\n",
       "      <td>Bryan Gordon</td>\n",
       "      <td>[Michael Schur]</td>\n",
       "      <td>0</td>\n",
       "    </tr>\n",
       "    <tr>\n",
       "      <th>4</th>\n",
       "      <td>1</td>\n",
       "      <td>5</td>\n",
       "      <td>Basketball</td>\n",
       "      <td>8.4</td>\n",
       "      <td>6299</td>\n",
       "      <td>19 Apr 2005</td>\n",
       "      <td>Michael and his staff challenge the warehouse ...</td>\n",
       "      <td>5.0</td>\n",
       "      <td>NaN</td>\n",
       "      <td>Greg Daniels</td>\n",
       "      <td>[Greg Daniels]</td>\n",
       "      <td>0</td>\n",
       "    </tr>\n",
       "  </tbody>\n",
       "</table>\n",
       "</div>"
      ],
      "text/plain": [
       "   Season  Episode   EpisodeTitle  IMDBRating  TotalVotes      AirDate  \\\n",
       "0       1        1          Pilot         7.4        7134  24 Mar 2005   \n",
       "1       1        2  Diversity Day         8.3        7033  16 Mar 2005   \n",
       "2       1        3    Health Care         7.7        5863   5 Apr 2005   \n",
       "3       1        4   The Alliance         8.0        5673  12 Apr 2005   \n",
       "4       1        5     Basketball         8.4        6299  19 Apr 2005   \n",
       "\n",
       "                                         Description  Viewership GuestStars  \\\n",
       "0  The premiere episode introduces the boss and s...        11.2        NaN   \n",
       "1  Michael's off color remark puts a sensitivity ...         6.0        NaN   \n",
       "2  Michael leaves Dwight in charge of picking the...         5.8        NaN   \n",
       "3  Just for a laugh, Jim agrees to an alliance wi...         5.4        NaN   \n",
       "4  Michael and his staff challenge the warehouse ...         5.0        NaN   \n",
       "\n",
       "          Director                                            Writers  \\\n",
       "0       Ken Kwapis  [Ricky Gervais , Stephen Merchant and Greg Dan...   \n",
       "1       Ken Kwapis                                      [B. J. Novak]   \n",
       "2  Ken Whittingham                                 [Paul Lieberstein]   \n",
       "3     Bryan Gordon                                    [Michael Schur]   \n",
       "4     Greg Daniels                                     [Greg Daniels]   \n",
       "\n",
       "   Number of Guest Stars  \n",
       "0                      0  \n",
       "1                      0  \n",
       "2                      0  \n",
       "3                      0  \n",
       "4                      0  "
      ]
     },
     "execution_count": 16,
     "metadata": {},
     "output_type": "execute_result"
    }
   ],
   "source": [
    "imdb_df.head()"
   ]
  },
  {
   "cell_type": "markdown",
   "id": "e78a6cf2",
   "metadata": {},
   "source": [
    "#### Save data to csv (to be used in the main notebook)"
   ]
  },
  {
   "cell_type": "code",
   "execution_count": 19,
   "id": "91096db4",
   "metadata": {},
   "outputs": [],
   "source": [
    "imdb_df.to_csv(\"data/imdb_ratings.csv\",index=False)"
   ]
  }
 ],
 "metadata": {
  "kernelspec": {
   "display_name": "Python 3",
   "language": "python",
   "name": "python3"
  },
  "language_info": {
   "codemirror_mode": {
    "name": "ipython",
    "version": 3
   },
   "file_extension": ".py",
   "mimetype": "text/x-python",
   "name": "python",
   "nbconvert_exporter": "python",
   "pygments_lexer": "ipython3",
   "version": "3.6.9"
  }
 },
 "nbformat": 4,
 "nbformat_minor": 5
}
