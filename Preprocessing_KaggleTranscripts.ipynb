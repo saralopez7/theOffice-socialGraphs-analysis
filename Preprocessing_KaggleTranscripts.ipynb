{
 "cells": [
  {
   "cell_type": "code",
   "execution_count": 1,
   "id": "46d86dff",
   "metadata": {
    "scrolled": true
   },
   "outputs": [
    {
     "name": "stdout",
     "output_type": "stream",
     "text": [
      "Warning: Your Kaggle API key is readable by other users on this system! To fix this, you can run 'chmod 600 /home/sara/.kaggle/kaggle.json'\n"
     ]
    }
   ],
   "source": [
    "import zipfile\n",
    "import pandas as pd\n",
    "from kaggle.api.kaggle_api_extended import KaggleApi"
   ]
  },
  {
   "cell_type": "markdown",
   "id": "a5d103c9",
   "metadata": {},
   "source": [
    "### Kaggle:  The Office (US) - Complete Dialogue/Transcript "
   ]
  },
  {
   "cell_type": "markdown",
   "id": "9f577f4c",
   "metadata": {},
   "source": [
    "We extract the data from an existing Kaggle dataset and we load it into a dataframe to do exploratory data analysis:"
   ]
  },
  {
   "cell_type": "code",
   "execution_count": 2,
   "id": "662a9c94",
   "metadata": {},
   "outputs": [
    {
     "name": "stdout",
     "output_type": "stream",
     "text": [
      "Warning: Your Kaggle API key is readable by other users on this system! To fix this, you can run 'chmod 600 /home/sara/.kaggle/kaggle.json'\n"
     ]
    }
   ],
   "source": [
    "api = KaggleApi()\n",
    "api.authenticate()\n",
    "\n",
    "api.dataset_download_file('nasirkhalid24/the-office-us-complete-dialoguetranscript','The-Office-Lines-V4.csv', path='./data/kaggle_data')\n",
    "with zipfile.ZipFile('./data/kaggle_data/The-Office-Lines-V4.csv.zip', 'r') as zip_ref:\n",
    "    zip_ref.extractall('./data')"
   ]
  },
  {
   "cell_type": "code",
   "execution_count": 3,
   "id": "f65dfaac",
   "metadata": {
    "scrolled": true
   },
   "outputs": [
    {
     "data": {
      "text/html": [
       "<div>\n",
       "<style scoped>\n",
       "    .dataframe tbody tr th:only-of-type {\n",
       "        vertical-align: middle;\n",
       "    }\n",
       "\n",
       "    .dataframe tbody tr th {\n",
       "        vertical-align: top;\n",
       "    }\n",
       "\n",
       "    .dataframe thead th {\n",
       "        text-align: right;\n",
       "    }\n",
       "</style>\n",
       "<table border=\"1\" class=\"dataframe\">\n",
       "  <thead>\n",
       "    <tr style=\"text-align: right;\">\n",
       "      <th></th>\n",
       "      <th>season</th>\n",
       "      <th>episode</th>\n",
       "      <th>title</th>\n",
       "      <th>scene</th>\n",
       "      <th>speaker</th>\n",
       "      <th>line</th>\n",
       "    </tr>\n",
       "  </thead>\n",
       "  <tbody>\n",
       "    <tr>\n",
       "      <th>0</th>\n",
       "      <td>1</td>\n",
       "      <td>1</td>\n",
       "      <td>Pilot</td>\n",
       "      <td>1</td>\n",
       "      <td>Michael</td>\n",
       "      <td>All right Jim. Your quarterlies look very good...</td>\n",
       "    </tr>\n",
       "    <tr>\n",
       "      <th>1</th>\n",
       "      <td>1</td>\n",
       "      <td>1</td>\n",
       "      <td>Pilot</td>\n",
       "      <td>1</td>\n",
       "      <td>Jim</td>\n",
       "      <td>Oh, I told you. I couldn't close it. So...</td>\n",
       "    </tr>\n",
       "    <tr>\n",
       "      <th>2</th>\n",
       "      <td>1</td>\n",
       "      <td>1</td>\n",
       "      <td>Pilot</td>\n",
       "      <td>1</td>\n",
       "      <td>Michael</td>\n",
       "      <td>So you've come to the master for guidance? Is ...</td>\n",
       "    </tr>\n",
       "    <tr>\n",
       "      <th>3</th>\n",
       "      <td>1</td>\n",
       "      <td>1</td>\n",
       "      <td>Pilot</td>\n",
       "      <td>1</td>\n",
       "      <td>Jim</td>\n",
       "      <td>Actually, you called me in here, but yeah.</td>\n",
       "    </tr>\n",
       "    <tr>\n",
       "      <th>4</th>\n",
       "      <td>1</td>\n",
       "      <td>1</td>\n",
       "      <td>Pilot</td>\n",
       "      <td>1</td>\n",
       "      <td>Michael</td>\n",
       "      <td>All right. Well, let me show you how it's done.</td>\n",
       "    </tr>\n",
       "  </tbody>\n",
       "</table>\n",
       "</div>"
      ],
      "text/plain": [
       "   season  episode  title  scene  speaker  \\\n",
       "0       1        1  Pilot      1  Michael   \n",
       "1       1        1  Pilot      1      Jim   \n",
       "2       1        1  Pilot      1  Michael   \n",
       "3       1        1  Pilot      1      Jim   \n",
       "4       1        1  Pilot      1  Michael   \n",
       "\n",
       "                                                line  \n",
       "0  All right Jim. Your quarterlies look very good...  \n",
       "1         Oh, I told you. I couldn't close it. So...  \n",
       "2  So you've come to the master for guidance? Is ...  \n",
       "3         Actually, you called me in here, but yeah.  \n",
       "4    All right. Well, let me show you how it's done.  "
      ]
     },
     "execution_count": 3,
     "metadata": {},
     "output_type": "execute_result"
    }
   ],
   "source": [
    "transcripts_df = pd.read_csv('data/The-Office-Lines-V4.csv')\n",
    "transcripts_df = transcripts_df.drop('Unnamed: 6', axis=1)\n",
    "\n",
    "transcripts_df.head()"
   ]
  },
  {
   "cell_type": "markdown",
   "id": "0c92d40e",
   "metadata": {},
   "source": [
    "Looking at the data, we can see that the speaker includes only the name of the character, and not the surname. Since the Dunderpedia data includes the character surnames, we will modify the `transcripts_df` speaker column to also include the surnames. This will later be useful in the analysis."
   ]
  },
  {
   "cell_type": "code",
   "execution_count": 4,
   "id": "1c8dbc65",
   "metadata": {
    "scrolled": true
   },
   "outputs": [
    {
     "name": "stdout",
     "output_type": "stream",
     "text": [
      "<class 'pandas.core.frame.DataFrame'>\n",
      "RangeIndex: 54626 entries, 0 to 54625\n",
      "Data columns (total 6 columns):\n",
      " #   Column   Non-Null Count  Dtype \n",
      "---  ------   --------------  ----- \n",
      " 0   season   54626 non-null  int64 \n",
      " 1   episode  54626 non-null  int64 \n",
      " 2   title    54626 non-null  object\n",
      " 3   scene    54626 non-null  int64 \n",
      " 4   speaker  54626 non-null  object\n",
      " 5   line     54626 non-null  object\n",
      "dtypes: int64(3), object(3)\n",
      "memory usage: 2.5+ MB\n"
     ]
    }
   ],
   "source": [
    "transcripts_df.info()"
   ]
  },
  {
   "cell_type": "markdown",
   "id": "a20b5871",
   "metadata": {},
   "source": [
    "The data downloaded consists of 54167 row and 6 attributes, namely: the season of the show, episode number for each dialogue, the character in the show saying the dialog and the line or dialogue the character says."
   ]
  },
  {
   "cell_type": "markdown",
   "id": "c50db02d",
   "metadata": {},
   "source": [
    "Next we make sure that our data does not contain missing values:"
   ]
  },
  {
   "cell_type": "code",
   "execution_count": 5,
   "id": "d677e3bf",
   "metadata": {},
   "outputs": [
    {
     "data": {
      "text/plain": [
       "season     0\n",
       "episode    0\n",
       "title      0\n",
       "scene      0\n",
       "speaker    0\n",
       "line       0\n",
       "dtype: int64"
      ]
     },
     "execution_count": 5,
     "metadata": {},
     "output_type": "execute_result"
    }
   ],
   "source": [
    "transcripts_df.isnull().sum()"
   ]
  },
  {
   "cell_type": "markdown",
   "id": "b2315c1c",
   "metadata": {
    "scrolled": true
   },
   "source": [
    "Looking at the data we could see that some lines are said by various speakers, in the format: `Jim & Pam`, `Dwight and Andy` or `Michael, Pam & Ryan`. For a more accurate analysis, we will separate these into different lines, one per speaker. "
   ]
  },
  {
   "cell_type": "code",
   "execution_count": 6,
   "id": "fdfebf67",
   "metadata": {},
   "outputs": [
    {
     "data": {
      "text/html": [
       "<div>\n",
       "<style scoped>\n",
       "    .dataframe tbody tr th:only-of-type {\n",
       "        vertical-align: middle;\n",
       "    }\n",
       "\n",
       "    .dataframe tbody tr th {\n",
       "        vertical-align: top;\n",
       "    }\n",
       "\n",
       "    .dataframe thead th {\n",
       "        text-align: right;\n",
       "    }\n",
       "</style>\n",
       "<table border=\"1\" class=\"dataframe\">\n",
       "  <thead>\n",
       "    <tr style=\"text-align: right;\">\n",
       "      <th></th>\n",
       "      <th>season</th>\n",
       "      <th>episode</th>\n",
       "      <th>title</th>\n",
       "      <th>scene</th>\n",
       "      <th>speaker</th>\n",
       "      <th>line</th>\n",
       "    </tr>\n",
       "  </thead>\n",
       "  <tbody>\n",
       "    <tr>\n",
       "      <th>24660</th>\n",
       "      <td>5</td>\n",
       "      <td>24</td>\n",
       "      <td>Heavy Competition</td>\n",
       "      <td>3908</td>\n",
       "      <td>Michael, Pam &amp; Ryan</td>\n",
       "      <td>U-G-L-Y, you ain't got no alibi! You ugly, huh...</td>\n",
       "    </tr>\n",
       "  </tbody>\n",
       "</table>\n",
       "</div>"
      ],
      "text/plain": [
       "       season  episode              title  scene              speaker  \\\n",
       "24660       5       24  Heavy Competition   3908  Michael, Pam & Ryan   \n",
       "\n",
       "                                                    line  \n",
       "24660  U-G-L-Y, you ain't got no alibi! You ugly, huh...  "
      ]
     },
     "execution_count": 6,
     "metadata": {},
     "output_type": "execute_result"
    }
   ],
   "source": [
    "transcripts_df.loc[transcripts_df['speaker'] == 'Michael, Pam & Ryan']"
   ]
  },
  {
   "cell_type": "code",
   "execution_count": 7,
   "id": "67d2f25d",
   "metadata": {
    "scrolled": true
   },
   "outputs": [
    {
     "data": {
      "text/html": [
       "<div>\n",
       "<style scoped>\n",
       "    .dataframe tbody tr th:only-of-type {\n",
       "        vertical-align: middle;\n",
       "    }\n",
       "\n",
       "    .dataframe tbody tr th {\n",
       "        vertical-align: top;\n",
       "    }\n",
       "\n",
       "    .dataframe thead th {\n",
       "        text-align: right;\n",
       "    }\n",
       "</style>\n",
       "<table border=\"1\" class=\"dataframe\">\n",
       "  <thead>\n",
       "    <tr style=\"text-align: right;\">\n",
       "      <th></th>\n",
       "      <th>season</th>\n",
       "      <th>episode</th>\n",
       "      <th>title</th>\n",
       "      <th>scene</th>\n",
       "      <th>speaker</th>\n",
       "      <th>line</th>\n",
       "    </tr>\n",
       "  </thead>\n",
       "  <tbody>\n",
       "    <tr>\n",
       "      <th>29117</th>\n",
       "      <td>6</td>\n",
       "      <td>11</td>\n",
       "      <td>Shareholder Meeting</td>\n",
       "      <td>4477</td>\n",
       "      <td>Jim &amp; Pam</td>\n",
       "      <td>No thanks.</td>\n",
       "    </tr>\n",
       "  </tbody>\n",
       "</table>\n",
       "</div>"
      ],
      "text/plain": [
       "       season  episode                title  scene    speaker        line\n",
       "29117       6       11  Shareholder Meeting   4477  Jim & Pam  No thanks."
      ]
     },
     "execution_count": 7,
     "metadata": {},
     "output_type": "execute_result"
    }
   ],
   "source": [
    "transcripts_df.loc[transcripts_df['speaker'] == 'Jim & Pam']"
   ]
  },
  {
   "cell_type": "code",
   "execution_count": 8,
   "id": "920b8142",
   "metadata": {},
   "outputs": [
    {
     "data": {
      "text/html": [
       "<div>\n",
       "<style scoped>\n",
       "    .dataframe tbody tr th:only-of-type {\n",
       "        vertical-align: middle;\n",
       "    }\n",
       "\n",
       "    .dataframe tbody tr th {\n",
       "        vertical-align: top;\n",
       "    }\n",
       "\n",
       "    .dataframe thead th {\n",
       "        text-align: right;\n",
       "    }\n",
       "</style>\n",
       "<table border=\"1\" class=\"dataframe\">\n",
       "  <thead>\n",
       "    <tr style=\"text-align: right;\">\n",
       "      <th></th>\n",
       "      <th>season</th>\n",
       "      <th>episode</th>\n",
       "      <th>title</th>\n",
       "      <th>scene</th>\n",
       "      <th>speaker</th>\n",
       "      <th>line</th>\n",
       "    </tr>\n",
       "  </thead>\n",
       "  <tbody>\n",
       "    <tr>\n",
       "      <th>24571</th>\n",
       "      <td>5</td>\n",
       "      <td>23</td>\n",
       "      <td>The Michael Scott Paper Company</td>\n",
       "      <td>3894</td>\n",
       "      <td>Dwight and Andy</td>\n",
       "      <td>Take me home, country roads, to the place, I b...</td>\n",
       "    </tr>\n",
       "    <tr>\n",
       "      <th>27785</th>\n",
       "      <td>6</td>\n",
       "      <td>6</td>\n",
       "      <td>Mafia</td>\n",
       "      <td>4291</td>\n",
       "      <td>Dwight and Andy</td>\n",
       "      <td>Oh man.</td>\n",
       "    </tr>\n",
       "  </tbody>\n",
       "</table>\n",
       "</div>"
      ],
      "text/plain": [
       "       season  episode                            title  scene  \\\n",
       "24571       5       23  The Michael Scott Paper Company   3894   \n",
       "27785       6        6                            Mafia   4291   \n",
       "\n",
       "               speaker                                               line  \n",
       "24571  Dwight and Andy  Take me home, country roads, to the place, I b...  \n",
       "27785  Dwight and Andy                                            Oh man.  "
      ]
     },
     "execution_count": 8,
     "metadata": {},
     "output_type": "execute_result"
    }
   ],
   "source": [
    "transcripts_df.loc[transcripts_df['speaker'] == 'Dwight and Andy']"
   ]
  },
  {
   "cell_type": "code",
   "execution_count": 9,
   "id": "0cea89f1",
   "metadata": {
    "scrolled": false
   },
   "outputs": [
    {
     "name": "stdout",
     "output_type": "stream",
     "text": [
      "<class 'pandas.core.frame.DataFrame'>\n",
      "Int64Index: 54815 entries, 0 to 54625\n",
      "Data columns (total 6 columns):\n",
      " #   Column   Non-Null Count  Dtype \n",
      "---  ------   --------------  ----- \n",
      " 0   season   54815 non-null  int64 \n",
      " 1   episode  54815 non-null  int64 \n",
      " 2   title    54815 non-null  object\n",
      " 3   scene    54815 non-null  int64 \n",
      " 4   speaker  54815 non-null  object\n",
      " 5   line     54815 non-null  object\n",
      "dtypes: int64(3), object(3)\n",
      "memory usage: 2.9+ MB\n"
     ]
    }
   ],
   "source": [
    "transcripts_df['speaker'].replace('and', ',', inplace=True, regex=True)\n",
    "transcripts_df['speaker'].replace('&', ',', inplace=True, regex=True)\n",
    "\n",
    "transcripts_df['speaker'] = transcripts_df['speaker'].str.split(',') # convert column to array\n",
    "\n",
    "transcripts_df = transcripts_df.explode('speaker') # split array in multiple rows (one row per element)\n",
    "transcripts_df['speaker'] = transcripts_df['speaker'].str.strip() # remove white spaces\n",
    "\n",
    "transcripts_df.info()"
   ]
  },
  {
   "cell_type": "markdown",
   "id": "ce293fda",
   "metadata": {},
   "source": [
    "Now we have 189 more rows than before, and all the lines are splited into individual speakers."
   ]
  },
  {
   "cell_type": "markdown",
   "id": "28cf4962",
   "metadata": {},
   "source": [
    "#### Save data to csv (to be used in the main notebook)"
   ]
  },
  {
   "cell_type": "code",
   "execution_count": 10,
   "id": "01f08d75",
   "metadata": {},
   "outputs": [],
   "source": [
    "transcripts_df.to_csv(\"data/transcripts.csv\", index=False)"
   ]
  }
 ],
 "metadata": {
  "kernelspec": {
   "display_name": "Python 3",
   "language": "python",
   "name": "python3"
  },
  "language_info": {
   "codemirror_mode": {
    "name": "ipython",
    "version": 3
   },
   "file_extension": ".py",
   "mimetype": "text/x-python",
   "name": "python",
   "nbconvert_exporter": "python",
   "pygments_lexer": "ipython3",
   "version": "3.6.9"
  }
 },
 "nbformat": 4,
 "nbformat_minor": 5
}
